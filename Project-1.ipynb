{
 "cells": [
  {
   "cell_type": "markdown",
   "metadata": {
    "tags": []
   },
   "source": [
    "# Wheelchair Control\n",
    "\n",
    "![](images/wheelchair.jpg)"
   ]
  },
  {
   "cell_type": "markdown",
   "metadata": {},
   "source": [
    "### Python Dependencies"
   ]
  },
  {
   "cell_type": "code",
   "execution_count": 4,
   "metadata": {},
   "outputs": [],
   "source": [
    "from numpy import *\n",
    "from numpy.linalg import *\n",
    "\n",
    "from scipy.linalg import *\n",
    "from scipy.integrate import *\n",
    "from scipy.signal import *\n",
    "\n",
    "from matplotlib.pyplot import *"
   ]
  },
  {
   "cell_type": "markdown",
   "metadata": {
    "tags": []
   },
   "source": [
    "Step 1 - Wheelchair Planar Model\n",
    "================================"
   ]
  },
  {
   "cell_type": "markdown",
   "metadata": {
    "tags": []
   },
   "source": [
    "### Introduction"
   ]
  },
  {
   "cell_type": "markdown",
   "metadata": {
    "tags": []
   },
   "source": [
    "We consider a simple model of a wheelchair evolving in the plane. It is mainly made of\n",
    "\n",
    "  - A frame ; from above, its most visible component is the seat. We assume that it is a square,\n",
    "\n",
    "  - Two fixed wheels (their orientation with respect to the frame does not change). \n",
    "    They are parallel and located at opposite ends of the seat. \n",
    "    \n",
    "We assume that the seat backrest is on top of the wheels common axis.\n",
    "\n",
    "\n",
    "Let $(0, e_x, e_y)$ be a direct orthonormal frame of the plane. We denote \n",
    "\n",
    "  - $(x, y)$ the coordinates of the wheel axis center in the orthonormal and \n",
    "  - $\\theta$ the angle of the wheels direction with respect to vector $e_x$ ; with $\\theta = 0$ when the front of the wheelchait faces the right ($e_x$) and $\\theta = \\pi/2$ when it faces upwards ($e_y$).\n",
    "\n",
    "  - $\\phi_l$ and $\\phi_r$ the rotation angles of the left and right wheel respectively ; by convention, when these angles increase, the wheelchair moves forward."
   ]
  },
  {
   "cell_type": "markdown",
   "metadata": {
    "tags": []
   },
   "source": [
    "### Parameter Definition"
   ]
  },
  {
   "cell_type": "markdown",
   "metadata": {
    "tags": []
   },
   "source": [
    "From now on, we assume that the seat side length is $L = 50 \\mbox{ cm}$ and the wheel radius is $R_w = 30 \\mbox{ cm}$.\n",
    "\n",
    "🧩 Define the corresponding Python variables `L` and `Rw` (express every length in meters, and more generally in the sequel, always use the [international standard of units](https://en.wikipedia.org/wiki/SI_derived_unit)) for numerical values. "
   ]
  },
  {
   "cell_type": "code",
   "execution_count": 5,
   "metadata": {},
   "outputs": [],
   "source": [
    "L = 50 / 100  # meters\n",
    "Rw = 30 / 100  # meters"
   ]
  },
  {
   "cell_type": "markdown",
   "metadata": {},
   "source": [
    "### Graphical Representation\n",
    "\n",
    "🧩 Implement a function `draw_wheelchair` with arguments `x`, `y` and `theta` that draws a simple geometric model of the wheelchair (with seat and fixed wheels) in the plane (top view) for arbitrary values of $(x, y)$ and $\\theta$. \n",
    "\n",
    "🗝️ **Hint.** Use the function `plot` of `matplotlib.pyplot`."
   ]
  },
  {
   "cell_type": "code",
   "execution_count": 128,
   "metadata": {},
   "outputs": [],
   "source": [
    "def draw_wheelchair(x, y, theta):\n",
    "    # Seat coordinates for the 4 corners of the seat\n",
    "    listOfCorner = [(x-L/2+(L/sqrt(2)*cos(3*pi/4 - theta +i*pi/2)), y+(L/sqrt(2)*sin(3*pi/4 - theta +i*pi/2))) for i in range(4)]\n",
    "    # Wheel coordinates\n",
    "#     wheel_left_x = x - L/2 * np.sin(-theta)\n",
    "#     wheel_left_y = y - L/2 * np.cos(-theta)\n",
    "#     wheel_right_x = x - L/2 * np.sin(-theta+pi)\n",
    "#     wheel_right_y = y - L/2 * np.cos(-theta+pi)\n",
    "    D = sqrt(L**2+Rw**2)\n",
    "    listOfWheels = [(x+(D*cos(3*pi/4 - theta +i*pi/2)), y+(D*sin(3*pi/4 - theta +i*pi/2))) for i in range(4)]\n",
    "\n",
    "    # Plot the seat and wheels\n",
    "    plot([listOfWheels[i][0] for i in range(2)], [listOfWheels[i][1] for i in range(2)], 'b')\n",
    "    plot([listOfWheels[i][0] for i in range(2,4)], [listOfWheels[i][1] for i in range(2,4)], 'b')\n",
    "    \n",
    "    plot([listOfCorner[i%4][0] for i in range(5)], [listOfCorner[i%4][1] for i in range(5)], 'b')\n",
    "#     plot(wheel_right_x, wheel_right_y, 'ko', markersize=10)\n",
    "    \n",
    "\n",
    "    # Set the axis limits and aspect ratio\n",
    "    xlim(x - 2*L, x + 2*L)\n",
    "    ylim(y - 2*L, y + 2*L)\n",
    "    gca().set_aspect('equal')\n",
    "    \n",
    "    # Show the plot\n",
    "    show()"
   ]
  },
  {
   "cell_type": "markdown",
   "metadata": {},
   "source": [
    "🧩 Represent the wheelchair when $(x, y, \\theta) = (0, 0, 0), (2, 2, \\pi/2), (0, 4, \\pi), (-2, 2, 3\\pi/2)$.\n",
    "\n",
    "🗝️ **Hint.** Use the following `draw_arena` function beforehand."
   ]
  },
  {
   "cell_type": "code",
   "execution_count": 129,
   "metadata": {},
   "outputs": [],
   "source": [
    "def draw_arena(xmin, xmax, ymin, ymax):\n",
    "    wh_ratio = (xmax - xmin) / (ymax - ymin)\n",
    "    figsize = fig_width, fig_height = 8, 8 / wh_ratio\n",
    "    figure(figsize=figsize)\n",
    "    axes = gca()\n",
    "    axes.axis([xmin, xmax, ymin, ymax])\n",
    "    axes.set_aspect(1)\n",
    "    xticks(arange(xmin, xmax+1, 1))\n",
    "    yticks(arange(ymin, ymax+1, 1))\n",
    "    grid(True)"
   ]
  },
  {
   "cell_type": "code",
   "execution_count": 130,
   "metadata": {},
   "outputs": [
    {
     "data": {
      "image/png": "[encoded data removed]",
      "text/plain": [
       "<Figure size 576x576 with 1 Axes>"
      ]
     },
     "metadata": {
      "needs_background": "light"
     },
     "output_type": "display_data"
    }
   ],
   "source": [
    "draw_arena(-5, 5, -5, 5)\n",
    "draw_wheelchair(0, 0, pi/4)"
   ]
  },
  {
   "cell_type": "code",
   "execution_count": 110,
   "metadata": {},
   "outputs": [
    {
     "data": {
      "image/png": "[encoded data removed]",
      "text/plain": [
       "<Figure size 576x576 with 1 Axes>"
      ]
     },
     "metadata": {
      "needs_background": "light"
     },
     "output_type": "display_data"
    }
   ],
   "source": [
    "draw_arena(-5, 5, -5, 5)\n",
    "draw_wheelchair(2, 2, pi/2)"
   ]
  },
  {
   "cell_type": "code",
   "execution_count": 111,
   "metadata": {},
   "outputs": [
    {
     "data": {
      "image/png": "[encoded data removed]",
      "text/plain": [
       "<Figure size 576x576 with 1 Axes>"
      ]
     },
     "metadata": {
      "needs_background": "light"
     },
     "output_type": "display_data"
    }
   ],
   "source": [
    "draw_arena(-5, 5, -5, 5)\n",
    "draw_wheelchair(0, 4, pi)"
   ]
  },
  {
   "cell_type": "code",
   "execution_count": 112,
   "metadata": {},
   "outputs": [
    {
     "data": {
      "image/png": "[encoded data removed]",
      "text/plain": [
       "<Figure size 576x576 with 1 Axes>"
      ]
     },
     "metadata": {
      "needs_background": "light"
     },
     "output_type": "display_data"
    }
   ],
   "source": [
    "draw_arena(-5, 5, -5, 5)\n",
    "draw_wheelchair(0, 4, 3*pi/2)"
   ]
  },
  {
   "cell_type": "markdown",
   "metadata": {},
   "source": [
    "### Kinematic Modeling\n",
    "\n",
    "We assume that we can control the wheels angular velocities $\\omega_l = \\dot{\\phi}_l$ and $\\omega_r = \\dot{\\phi}_r$ (this is a *kinematic* model of the wheelchair).\n",
    "We also assume that the wheelchair fixed wheels roll without slipping. \n",
    "\n",
    "🧩 Establish the differential equations that relate $\\dot{x}$,\n",
    "$\\dot{y}$ and $\\dot{\\theta}$ with $\\omega_l$ and $\\omega_r$."
   ]
  },
  {
   "cell_type": "markdown",
   "metadata": {},
   "source": [
    "**Answer:**"
   ]
  },
  {
   "cell_type": "markdown",
   "metadata": {},
   "source": [
    "the velocity of the center of each wheel is given by :\n",
    "<br>\n",
    "$$\n",
    "\\begin{aligned}\n",
    "v_l & =R_w \\omega_l \\\\\n",
    "v_r & =R_w \\omega_r\n",
    "\\end{aligned}\n",
    "$$\n",
    "<br>\n",
    "The velocity of the wheel axis center C can be computed as the average of the velocities of the two wheels:\n",
    "<br>\n",
    "$$\n",
    "v_C=\\frac{v_l+v_r}{2}=\\frac{R_w}{2}\\left(\\omega_l+\\omega_r\\right)\n",
    "$$\n",
    "<br>\n",
    "The direction of the velocity of the center of the wheel axis is the direction of the vector , thus:\n",
    "<br>\n",
    "$$\n",
    "\\begin{aligned}\n",
    "& \\dot{x}=v_C \\cos \\theta \\\\\n",
    "& \\dot{y}=v_C \\sin \\theta\n",
    "\\end{aligned}\n",
    "$$\n",
    "<br>\n",
    "Finally, the angular velocity of the wheelchair is given by the difference of the velocities of the two wheels divided by the distance between the wheels:\n",
    "<br>\n",
    "$$\n",
    "\\dot{\\theta}=\\frac{v_r-v_l}{L}=\\frac{R_w}{L}\\left(\\omega_r-\\omega_l\\right)\n",
    "$$\n",
    "<br>\n",
    "Therefore, the differential equations relating  are:\n",
    "<br>\n",
    "$$\n",
    "\\begin{aligned}\n",
    "& \\dot{x}=\\frac{R_w}{2}\\left(\\omega_l+\\omega_r\\right) \\cos \\theta \\\\\n",
    "& \\dot{y}=\\frac{R_w}{2}\\left(\\omega_l+\\omega_r\\right) \\sin \\theta \\\\\n",
    "& \\dot{\\theta}=\\frac{R_w}{L}\\left(\\omega_r-\\omega_l\\right)\n",
    "\\end{aligned}\n",
    "$$"
   ]
  },
  {
   "cell_type": "markdown",
   "metadata": {},
   "source": [
    "### Analysis\n",
    "\n",
    "🧩 Show that if $\\omega_l$ and $\\omega_r$ are continuously differentiable functions of $(x, y, \\theta)$ (which includes the case of constant inputs), this system is well-posed."
   ]
  },
  {
   "cell_type": "markdown",
   "metadata": {},
   "source": [
    "#### Answer:\n",
    "\n",
    "From the previous question, we can see that $\\dot\\theta$ is function of $\\omega_{l}$ and $\\omega_{r}$ ($\\dot\\theta = \\frac{R_w}{L} (\\omega_r - \\omega_l))$. Thus, if $\\omega_l$ and $\\omega_r$ are continuously differentiable functions, then $\\dot\\theta$ is also.$\\\\$\n",
    "Therefore, $\\theta$ is continuously differentiable function, which means $cos(\\theta)$ and $sin(\\theta)$ are continuously differentiable.\n",
    "Moreover, we can see that $\\dot{x}$ and $\\dot{y}$ are functions of $\\omega_{l}$, $\\omega_{r}$ and $\\theta$.\n",
    "Hence, $\\dot{x}$ and $\\dot{y}$ are continuously differentiable.\n",
    "\n",
    "$\\implies$ From the UNIQUENESS, CONTINUITY and EXISTENCE theorems we can derive that **_the system is well-posed_**."
   ]
  },
  {
   "cell_type": "markdown",
   "metadata": {},
   "source": [
    "🧩 Show that if $\\omega_l$ and $\\omega_r$ are constants, the maximal solution associated to any initial state is global. Is is still true of $\\omega_l$ and $\\omega_r$ are arbitrary continuously differentiable functions of $(x, y, \\theta)$ ?"
   ]
  },
  {
   "cell_type": "markdown",
   "metadata": {},
   "source": [
    "**Answer:**\n",
    "\n",
    "\n",
    "If $\\omega_l$ and $\\omega_r$ are constants: \n",
    "$$\\quad \\quad \\theta(t) = \\frac{R_w}{L}\\left(\\omega_r-\\omega_l\\right).t \\\\$$\n",
    "$$ \\quad \\quad x(t) = \\frac{L}{2}\\frac{\\omega_r+\\omega_l}{\\omega_r-\\omega_l} \\sin(\\theta(t)) $$\n",
    "\n",
    "$$ \\quad \\quad y(t) = - \\frac{L}{2}\\frac{\\omega_r+\\omega_l}{\\omega_r-\\omega_l} \\cos(\\theta(t))$$\n",
    "\n",
    "We can see that these solutions are finite for $t < \\infty$. $\\\\$\n",
    "$\\implies$ Therefore, the maximal solution associated to any initial state is global."
   ]
  },
  {
   "cell_type": "markdown",
   "metadata": {},
   "source": [
    "If  $\\omega_l$ and $\\omega_r$ are arbitrary continuously differentiable functions of $(x, y, \\theta)$. For $\\tau<\\infty$. <br>\n",
    "We have that $\\omega_r+\\omega_l$ and $\\omega_r-\\omega_l$ are continuously differentiable in a segment $t\\in [0, \\tau]$. thus, they are bounded. \n",
    "<br>\n",
    "$$ \\exists M_1, M_2 \\quad \\quad \\text{such as} \\quad \\lvert \\omega_r+\\omega_l \\rvert < M_1 \\quad \\lvert \\omega_r-\\omega_l \\rvert < M_2 $$ \n",
    "<br>\n",
    "Therefore,  $\\exists C_1, C_2, C_3 \\quad \\quad \\text{such as} $ \n",
    "$$  \\lvert \\dot x(t) \\rvert < C_1$$\n",
    "$$  \\lvert \\dot y(t) \\rvert < C_2$$\n",
    "$$  \\lvert \\dot\\theta(t) \\rvert < C_3$$\n",
    "And by integration, \n",
    "$$  \\lvert x(t) \\rvert < \\lvert x(0) \\rvert + C_1.\\tau \\quad \\quad \\lvert y(t) \\rvert < \\lvert y(0) \\rvert + C_2.\\tau \\quad \\quad \\lvert \\theta(t) \\rvert < \\lvert \\theta(0)\\rvert +  C_3.\\tau $$\n",
    "<br>\n",
    "$\\implies$ Therefore, the maximal solution associated to any initial state is still global."
   ]
  },
  {
   "cell_type": "markdown",
   "metadata": {},
   "source": [
    "### Vector Field\n",
    "\n",
    "In the sequel, `omega` is a function that computes the input vector $\\omega := (\\omega_l, \\omega_r)$ given the time $t$ and $(x, y, \\theta)$ (thus, it may depend on the time and/or on the system state if needed). For example:"
   ]
  },
  {
   "cell_type": "code",
   "execution_count": 76,
   "metadata": {},
   "outputs": [],
   "source": [
    "def omega(t, xytheta):\n",
    "    omega_l = (1 - L/4) * pi / Rw\n",
    "    omega_r = (1 + L/4) * pi / Rw\n",
    "    return array([omega_l, omega_r])"
   ]
  },
  {
   "cell_type": "markdown",
   "metadata": {},
   "source": [
    "🧩 Implement a function `fun(t, xytheta)` that computes $(\\dot{x}, \\dot{y}, \\dot{\\theta})$ given the time $t$ and $(x,y,\\theta)$ (and implicitly the inputs $\\omega$ computed by the function `omega`)."
   ]
  },
  {
   "cell_type": "code",
   "execution_count": 77,
   "metadata": {},
   "outputs": [],
   "source": [
    "def fun(t, xytheta):\n",
    "    x, y, theta = xytheta\n",
    "    omega_l, omega_r = omega(t, xytheta)\n",
    "    dx = (Rw/2) * (omega_r + omega_l)*cos(theta)\n",
    "    dy = (Rw/2) * (omega_r + omega_l)*sin(theta)\n",
    "    dtheta = (Rw/L) * (omega_r - omega_l)\n",
    "    return array([dx, dy, dtheta])"
   ]
  },
  {
   "cell_type": "markdown",
   "metadata": {},
   "source": [
    "### Simulation Setup\n",
    "\n",
    "🧩 Simulate the wheelchair dynamics for 4 seconds when $(x_0, y_0, \\theta_0)(t=0) = (0.0, 0.0, 0.0)$,\n",
    "and the wheels velocities are the constants $\\omega_l = (1 - L/4)  \\pi / R \\mbox{ rad/s}$ and $\\omega_r = (1 + L/4)  \\pi / R_w \\mbox{ rad/s}$.\n",
    "(Compute the dense outputs.)\n",
    "   "
   ]
  },
  {
   "cell_type": "code",
   "execution_count": 82,
   "metadata": {},
   "outputs": [],
   "source": [
    "# Define initial conditions\n",
    "initial0 = np.array([0.0, 0.0, 0.0])\n",
    "\n",
    "# Define time interval\n",
    "t_span = [0.0, 4.0]\n",
    "\n",
    "# Call solve_ivp\n",
    "result = solve_ivp(fun, t_span, initial0, dense_output=True)\n",
    "rt = result[\"t\"]\n",
    "x = result[\"y\"][0]\n",
    "y = result[\"y\"][1]\n",
    "theta = result[\"y\"][2]\n",
    "sol = result[\"sol\"]"
   ]
  },
  {
   "cell_type": "markdown",
   "metadata": {},
   "source": [
    "🧩 Use the simulation results to draw the graphs of $x(t)$, $y(t)$ and $\\theta(t)$."
   ]
  },
  {
   "cell_type": "code",
   "execution_count": 87,
   "metadata": {},
   "outputs": [
    {
     "data": {
      "text/plain": [
       "<matplotlib.legend.Legend at 0x24768624ac0>"
      ]
     },
     "execution_count": 87,
     "metadata": {},
     "output_type": "execute_result"
    },
    {
     "data": {
      "image/png": "[encoded data removed]",
      "text/plain": [
       "<Figure size 1080x432 with 1 Axes>"
      ]
     },
     "metadata": {
      "needs_background": "light"
     },
     "output_type": "display_data"
    }
   ],
   "source": [
    "figure(figsize=(15,6))\n",
    "t = linspace(0, 4, 1000)\n",
    "plot(t, sol(t)[0], \"-\", label=\"$x(t)$\")\n",
    "plot(t, sol(t)[1], \"-\", label=\"$y(t)$\")\n",
    "plot(t, sol(t)[2], \"-\", label=\"$\\theta(t)$\")\n",
    "plot(rt, x, \".\", color=\"C0\")\n",
    "plot(rt, y, \".\", color=\"C1\")\n",
    "plot(rt, theta, \".\", color=\"C2\")\n",
    "xlabel(\"$t$\"); grid(); legend()"
   ]
  },
  {
   "cell_type": "markdown",
   "metadata": {},
   "source": [
    "🧩 Use the simulation results to display the robot location every 0.5 second."
   ]
  },
  {
   "cell_type": "code",
   "execution_count": 7,
   "metadata": {},
   "outputs": [],
   "source": [
    "pass"
   ]
  },
  {
   "cell_type": "markdown",
   "metadata": {},
   "source": [
    "🧩 What should be the analytical expression of $x(t)$, $y(t)$ and $\\theta(t)$? "
   ]
  },
  {
   "cell_type": "markdown",
   "metadata": {},
   "source": [
    "**Answer:**"
   ]
  },
  {
   "cell_type": "markdown",
   "metadata": {},
   "source": [
    "🧩 Do you experimental results match the theoretical results ? Draw the curves of the simulation error at time $t$ for $x$, $y$ and $\\theta$."
   ]
  },
  {
   "cell_type": "code",
   "execution_count": 8,
   "metadata": {},
   "outputs": [],
   "source": [
    "pass"
   ]
  },
  {
   "cell_type": "markdown",
   "metadata": {},
   "source": [
    "🧩 If needed, adjust the simulation parameters until this error is uniformly less than $2 \\times 10^{-5}$ for every component of $(x, y, \\theta)$."
   ]
  },
  {
   "cell_type": "code",
   "execution_count": 9,
   "metadata": {},
   "outputs": [],
   "source": [
    "pass"
   ]
  }
 ],
 "metadata": {
  "kernelspec": {
   "display_name": "Python 3 (ipykernel)",
   "language": "python",
   "name": "python3"
  },
  "language_info": {
   "codemirror_mode": {
    "name": "ipython",
    "version": 3
   },
   "file_extension": ".py",
   "mimetype": "text/x-python",
   "name": "python",
   "nbconvert_exporter": "python",
   "pygments_lexer": "ipython3",
   "version": "3.9.7"
  }
 },
 "nbformat": 4,
 "nbformat_minor": 4
}
